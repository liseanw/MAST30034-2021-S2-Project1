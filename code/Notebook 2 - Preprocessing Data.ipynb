{
 "cells": [
  {
   "cell_type": "markdown",
   "id": "7380a3d8",
   "metadata": {},
   "source": [
    "# Notebook 2: Preprocessing Data"
   ]
  },
  {
   "cell_type": "code",
   "execution_count": 23,
   "id": "3e8d80e8",
   "metadata": {},
   "outputs": [],
   "source": [
    "# Importing required libraries and packages\n",
    "import pandas as pd\n",
    "import numpy as np\n",
    "import geopandas as gpd\n",
    "import warnings\n",
    "\n",
    "from collections import defaultdict\n",
    "\n",
    "warnings.filterwarnings(\"ignore\")"
   ]
  },
  {
   "cell_type": "code",
   "execution_count": 2,
   "id": "e7a3012f",
   "metadata": {},
   "outputs": [],
   "source": [
    "# A function that combines one year's\n",
    "# worth of data into a single dataframe\n",
    "def mergecsv(directory,\n",
    "             taxi_color,\n",
    "             year):\n",
    "    # Initialising the list of dataframes\n",
    "    # with January's data\n",
    "    dfs = []\n",
    "    df = pd.read_csv(directory \n",
    "                     + \"/\" \n",
    "                     + taxi_color\n",
    "                     + \"_tripdata_\" \n",
    "                     + str(year) \n",
    "                     + \"-01.csv\")\n",
    "    dfs.append(df)\n",
    "    # Adds February's to December's data\n",
    "    # to the dataframe list\n",
    "    for i in range(2,13):\n",
    "        # Formats to two digits\n",
    "        if i < 10:\n",
    "            num = \"0\" + str(i)\n",
    "        else:\n",
    "            num = str(i)\n",
    "            \n",
    "        tempdf = pd.read_csv(directory \n",
    "                             + \"/\" \n",
    "                             + taxi_color\n",
    "                             + \"_tripdata_\" \n",
    "                             + str(year) \n",
    "                             + \"-\" \n",
    "                             + num \n",
    "                             + \".csv\")\n",
    "        dfs.append(tempdf)\n",
    "        \n",
    "    final = pd.concat(dfs)\n",
    "    return final"
   ]
  },
  {
   "cell_type": "markdown",
   "id": "6a71f592",
   "metadata": {},
   "source": [
    "### TLC Data"
   ]
  },
  {
   "cell_type": "code",
   "execution_count": 3,
   "id": "e566b523",
   "metadata": {},
   "outputs": [],
   "source": [
    "# Initialise the directory with the TLC datasets\n",
    "directory = \"../raw_data\"\n",
    "\n",
    "# Obtain the entire 2019 and 2020 Green and Yellow \n",
    "# taxi data into their respective dataframes\n",
    "yellow_2019 = mergecsv(directory, \"yellow\", 2019)\n",
    "yellow_2020 = mergecsv(directory, \"yellow\", 2020)\n",
    "green_2019 = mergecsv(directory, \"green\", 2019)\n",
    "green_2020 = mergecsv(directory, \"green\", 2020)"
   ]
  },
  {
   "cell_type": "code",
   "execution_count": 4,
   "id": "cafb609e",
   "metadata": {},
   "outputs": [
    {
     "name": "stdout",
     "output_type": "stream",
     "text": [
      "Total Number of Instances: 116825619\n"
     ]
    }
   ],
   "source": [
    "print(\"Total Number of Instances: \" + str((len(yellow_2019.index)) \n",
    "      + len(yellow_2020.index) \n",
    "      + len(green_2019.index) \n",
    "      + len(green_2020.index)))"
   ]
  },
  {
   "cell_type": "code",
   "execution_count": 5,
   "id": "65a0e7db",
   "metadata": {},
   "outputs": [],
   "source": [
    "# Removes all instances where:\n",
    "# - there are no passengers,\n",
    "# - there is no distance travelled,\n",
    "# - payment is not by credit card\n",
    "# - the fare amount is negative,\n",
    "# - tip amount is negative"
   ]
  },
  {
   "cell_type": "code",
   "execution_count": 6,
   "id": "1440de5f",
   "metadata": {},
   "outputs": [],
   "source": [
    "yellow_2019 = yellow_2019.loc[((yellow_2019['payment_type'] == 1)\n",
    "                               & (yellow_2019['passenger_count'] > 0)\n",
    "                               & (yellow_2019['trip_distance'] > 0)\n",
    "                               & (yellow_2019['fare_amount'] >= 0)\n",
    "                               & (yellow_2019['tip_amount'] >= 0))]"
   ]
  },
  {
   "cell_type": "code",
   "execution_count": 7,
   "id": "5193c393",
   "metadata": {},
   "outputs": [],
   "source": [
    "yellow_2020 = yellow_2020.loc[((yellow_2020['payment_type'] == 1)\n",
    "                               & (yellow_2020['passenger_count'] > 0)\n",
    "                               & (yellow_2020['trip_distance'] > 0)\n",
    "                               & (yellow_2020['fare_amount'] >= 0)\n",
    "                               & (yellow_2020['tip_amount'] >= 0))]"
   ]
  },
  {
   "cell_type": "code",
   "execution_count": 8,
   "id": "38e520b9",
   "metadata": {},
   "outputs": [],
   "source": [
    "green_2019 = green_2019.loc[((green_2019['payment_type'] == 1)\n",
    "                               & (green_2019['passenger_count'] > 0)\n",
    "                               & (green_2019['trip_distance'] > 0)\n",
    "                               & (green_2019['fare_amount'] >= 0)\n",
    "                               & (green_2019['tip_amount'] >= 0))]"
   ]
  },
  {
   "cell_type": "code",
   "execution_count": 9,
   "id": "1aa3be3d",
   "metadata": {},
   "outputs": [],
   "source": [
    "green_2020 = green_2020.loc[((green_2020['payment_type'] == 1)\n",
    "                               & (green_2020['passenger_count'] > 0)\n",
    "                               & (green_2020['trip_distance'] > 0)\n",
    "                               & (green_2020['fare_amount'] >= 0)\n",
    "                               & (green_2020['tip_amount'] >= 0))]"
   ]
  },
  {
   "cell_type": "code",
   "execution_count": 10,
   "id": "9d891f41",
   "metadata": {},
   "outputs": [
    {
     "name": "stdout",
     "output_type": "stream",
     "text": [
      "Total Number of Instances: 79809343\n"
     ]
    }
   ],
   "source": [
    "print(\"Total Number of Instances: \" + str((len(yellow_2019.index)) \n",
    "      + len(yellow_2020.index) \n",
    "      + len(green_2019.index) \n",
    "      + len(green_2020.index)))"
   ]
  },
  {
   "cell_type": "code",
   "execution_count": 11,
   "id": "ebbca1a3",
   "metadata": {},
   "outputs": [],
   "source": [
    "# Setting the index to start from zero\n",
    "yellow_2019 = yellow_2019.reset_index(drop = True)\n",
    "yellow_2020 = yellow_2020.reset_index(drop = True)\n",
    "green_2019 = green_2019.reset_index(drop = True)\n",
    "green_2020 = green_2020.reset_index(drop = True)"
   ]
  },
  {
   "cell_type": "markdown",
   "id": "9b60f3dc",
   "metadata": {},
   "source": [
    "### Unemployment Data "
   ]
  },
  {
   "cell_type": "code",
   "execution_count": 19,
   "id": "3c14d3a9",
   "metadata": {},
   "outputs": [
    {
     "data": {
      "text/html": [
       "<div>\n",
       "<style scoped>\n",
       "    .dataframe tbody tr th:only-of-type {\n",
       "        vertical-align: middle;\n",
       "    }\n",
       "\n",
       "    .dataframe tbody tr th {\n",
       "        vertical-align: top;\n",
       "    }\n",
       "\n",
       "    .dataframe thead th {\n",
       "        text-align: right;\n",
       "    }\n",
       "</style>\n",
       "<table border=\"1\" class=\"dataframe\">\n",
       "  <thead>\n",
       "    <tr style=\"text-align: right;\">\n",
       "      <th></th>\n",
       "      <th>Borough</th>\n",
       "      <th>2019</th>\n",
       "      <th>2020</th>\n",
       "    </tr>\n",
       "  </thead>\n",
       "  <tbody>\n",
       "    <tr>\n",
       "      <th>0</th>\n",
       "      <td>Bronx</td>\n",
       "      <td>5.3</td>\n",
       "      <td>16.0</td>\n",
       "    </tr>\n",
       "    <tr>\n",
       "      <th>1</th>\n",
       "      <td>Brooklyn</td>\n",
       "      <td>4.0</td>\n",
       "      <td>12.5</td>\n",
       "    </tr>\n",
       "    <tr>\n",
       "      <th>2</th>\n",
       "      <td>Manhattan</td>\n",
       "      <td>3.4</td>\n",
       "      <td>9.5</td>\n",
       "    </tr>\n",
       "    <tr>\n",
       "      <th>3</th>\n",
       "      <td>Queens</td>\n",
       "      <td>3.4</td>\n",
       "      <td>12.5</td>\n",
       "    </tr>\n",
       "    <tr>\n",
       "      <th>4</th>\n",
       "      <td>Staten Island</td>\n",
       "      <td>3.8</td>\n",
       "      <td>10.6</td>\n",
       "    </tr>\n",
       "  </tbody>\n",
       "</table>\n",
       "</div>"
      ],
      "text/plain": [
       "         Borough  2019  2020\n",
       "0          Bronx   5.3  16.0\n",
       "1       Brooklyn   4.0  12.5\n",
       "2      Manhattan   3.4   9.5\n",
       "3         Queens   3.4  12.5\n",
       "4  Staten Island   3.8  10.6"
      ]
     },
     "execution_count": 19,
     "metadata": {},
     "output_type": "execute_result"
    }
   ],
   "source": [
    "# Loads unemployment data\n",
    "unemployment = pd.read_csv(\"../raw_data/unemployment.csv\")\n",
    "# Shows the dataframe\n",
    "unemployment"
   ]
  },
  {
   "cell_type": "code",
   "execution_count": 13,
   "id": "c7f44028",
   "metadata": {},
   "outputs": [
    {
     "name": "stdout",
     "output_type": "stream",
     "text": [
      "['Manhattan' 'Queens' 'Brooklyn' 'Bronx' 'Staten Island' 'EWR']\n",
      "['Brooklyn' 'Queens' 'Manhattan' 'Bronx' 'Staten Island' 'EWR']\n"
     ]
    }
   ],
   "source": [
    "# Code adapted from Lab 2\n",
    "\n",
    "# Loads the zone shape file\n",
    "zone = pd.read_csv(\"../raw_data/taxi+_zone_lookup.csv\")\n",
    "sf = gpd.read_file(\"../raw_data/taxi_zones.shp\")\n",
    "sf['geometry'] = sf['geometry'].to_crs(\"+proj=longlat +ellps=WGS84 +datum=WGS84 +no_defs\")\n",
    "\n",
    "# Obtain the unique boroughs for both Yellow\n",
    "# and Green taxis\n",
    "yellow_gdf = gpd.GeoDataFrame(pd.merge(yellow_2019,\n",
    "                                       sf,\n",
    "                                       left_on = 'PULocationID',\n",
    "                                       right_on = 'LocationID')).drop('PULocationID',axis = 1)\n",
    "green_gdf = gpd.GeoDataFrame(pd.merge(green_2019,\n",
    "                                      sf,\n",
    "                                      left_on = 'PULocationID',\n",
    "                                      right_on = 'LocationID')).drop('PULocationID',axis = 1)\n",
    "\n",
    "print(yellow_gdf['borough'].unique())\n",
    "print(green_gdf['borough'].unique())"
   ]
  },
  {
   "cell_type": "code",
   "execution_count": 20,
   "id": "b8e231c7",
   "metadata": {},
   "outputs": [],
   "source": [
    "# Adding a row for EWR\n",
    "new_row = {'Borough':'EWR',\n",
    "           '2019': unemployment['2019'].mean(),\n",
    "           '2020': unemployment['2020'].mean()}\n",
    "\n",
    "unemployment = unemployment.append(new_row,\n",
    "                                   ignore_index = True)"
   ]
  },
  {
   "cell_type": "markdown",
   "id": "606e54c7",
   "metadata": {},
   "source": [
    "### Combining Data"
   ]
  },
  {
   "cell_type": "code",
   "execution_count": 21,
   "id": "03a77b65",
   "metadata": {},
   "outputs": [],
   "source": [
    "boroughsID = defaultdict()\n",
    "for borough in unemployment['Borough'].unique():\n",
    "    boroughsID[borough] = []\n",
    "\n",
    "boroughsID['Unknown'] = []\n",
    "    \n",
    "for row in zone.iterrows():\n",
    "    boroughsID[row[1][1]].append(row[1][0])  \n",
    "    "
   ]
  },
  {
   "cell_type": "code",
   "execution_count": 24,
   "id": "b8bda95f",
   "metadata": {},
   "outputs": [],
   "source": [
    "pu = yellow_2019['PULocationID'].to_numpy()\n",
    "yellow_2019['borough'] = np.nan\n",
    "\n",
    "for i in range(len(pu)):\n",
    "    if pu[i] in boroughsID['Bronx']:\n",
    "        borough = 'Bronx'\n",
    "    elif pu[i] in boroughsID['Brooklyn']:\n",
    "        borough = 'Brooklyn'\n",
    "    elif pu[i] in boroughsID['Manhattan']:\n",
    "        borough = 'Manhattan'\n",
    "    elif pu[i] in boroughsID['Queens']:\n",
    "        borough = 'Queens'\n",
    "    elif pu[i] in boroughsID['Staten Island']:\n",
    "        borough = 'Staten Island'\n",
    "    elif pu[i] in boroughsID['EWR']:\n",
    "        borough = 'EWR'\n",
    "    else:\n",
    "        borough = 'Unknown'\n",
    "    yellow_2019['borough'][i] = borough\n",
    "    \n",
    "    \n",
    "conditions = [\n",
    "    (yellow_2019['borough'] == 'Bronx'),\n",
    "    (yellow_2019['borough'] == 'Brooklyn'),\n",
    "    (yellow_2019['borough'] == 'Manhattan'),\n",
    "    (yellow_2019['borough'] == 'Queens'),\n",
    "    (yellow_2019['borough'] == 'Staten Island'),\n",
    "    (yellow_2019['borough'] == 'EWR'),\n",
    "    (yellow_2019['borough'] == 'Unknown')]\n",
    "\n",
    "choices = [unemployment['2019'][0],\n",
    "           unemployment['2019'][1],\n",
    "           unemployment['2019'][2],\n",
    "           unemployment['2019'][3],\n",
    "           unemployment['2019'][4],\n",
    "           unemployment['2019'][5],\n",
    "           0]\n",
    "\n",
    "yellow_2019['unemployment'] = np.select(conditions, choices)"
   ]
  },
  {
   "cell_type": "code",
   "execution_count": 25,
   "id": "e0fd62b4",
   "metadata": {},
   "outputs": [],
   "source": [
    "pu = yellow_2020['PULocationID'].to_numpy()\n",
    "yellow_2020['borough'] = np.nan\n",
    "\n",
    "for i in range(len(pu)):\n",
    "    if pu[i] in boroughsID['Bronx']:\n",
    "        borough = 'Bronx'\n",
    "    elif pu[i] in boroughsID['Brooklyn']:\n",
    "        borough = 'Brooklyn'\n",
    "    elif pu[i] in boroughsID['Manhattan']:\n",
    "        borough = 'Manhattan'\n",
    "    elif pu[i] in boroughsID['Queens']:\n",
    "        borough = 'Queens'\n",
    "    elif pu[i] in boroughsID['Staten Island']:\n",
    "        borough = 'Staten Island'\n",
    "    elif pu[i] in boroughsID['EWR']:\n",
    "        borough = 'EWR'\n",
    "    else:\n",
    "        borough = 'Unknown'\n",
    "    yellow_2020['borough'][i] = borough\n",
    "    \n",
    "    \n",
    "conditions = [\n",
    "    (yellow_2020['borough'] == 'Bronx'),\n",
    "    (yellow_2020['borough'] == 'Brooklyn'),\n",
    "    (yellow_2020['borough'] == 'Manhattan'),\n",
    "    (yellow_2020['borough'] == 'Queens'),\n",
    "    (yellow_2020['borough'] == 'Staten Island'),\n",
    "    (yellow_2020['borough'] == 'EWR'),\n",
    "    (yellow_2020['borough'] == 'Unknown')]\n",
    "\n",
    "choices = [unemployment['2020'][0],\n",
    "           unemployment['2020'][1],\n",
    "           unemployment['2020'][2],\n",
    "           unemployment['2020'][3],\n",
    "           unemployment['2020'][4],\n",
    "           unemployment['2020'][5],\n",
    "           0]\n",
    "\n",
    "yellow_2020['unemployment'] = np.select(conditions, choices)"
   ]
  },
  {
   "cell_type": "code",
   "execution_count": 26,
   "id": "fbfda0cd",
   "metadata": {},
   "outputs": [],
   "source": [
    "pu = green_2019['PULocationID'].to_numpy()\n",
    "green_2019['borough'] = np.nan\n",
    "\n",
    "for i in range(len(pu)):\n",
    "    if pu[i] in boroughsID['Bronx']:\n",
    "        borough = 'Bronx'\n",
    "    elif pu[i] in boroughsID['Brooklyn']:\n",
    "        borough = 'Brooklyn'\n",
    "    elif pu[i] in boroughsID['Manhattan']:\n",
    "        borough = 'Manhattan'\n",
    "    elif pu[i] in boroughsID['Queens']:\n",
    "        borough = 'Queens'\n",
    "    elif pu[i] in boroughsID['Staten Island']:\n",
    "        borough = 'Staten Island'\n",
    "    elif pu[i] in boroughsID['EWR']:\n",
    "        borough = 'EWR'\n",
    "    else:\n",
    "        borough = 'Unknown'\n",
    "    green_2019['borough'][i] = borough\n",
    "    \n",
    "    \n",
    "conditions = [\n",
    "    (green_2019['borough'] == 'Bronx'),\n",
    "    (green_2019['borough'] == 'Brooklyn'),\n",
    "    (green_2019['borough'] == 'Manhattan'),\n",
    "    (green_2019['borough'] == 'Queens'),\n",
    "    (green_2019['borough'] == 'Staten Island'),\n",
    "    (green_2019['borough'] == 'EWR'),\n",
    "    (green_2019['borough'] == 'Unknown')]\n",
    "\n",
    "choices = [unemployment['2019'][0],\n",
    "           unemployment['2019'][1],\n",
    "           unemployment['2019'][2],\n",
    "           unemployment['2019'][3],\n",
    "           unemployment['2019'][4],\n",
    "           unemployment['2019'][5],\n",
    "           0]\n",
    "\n",
    "green_2019['unemployment'] = np.select(conditions, choices)"
   ]
  },
  {
   "cell_type": "code",
   "execution_count": 27,
   "id": "0fb91cc4",
   "metadata": {},
   "outputs": [],
   "source": [
    "pu = green_2020['PULocationID'].to_numpy()\n",
    "green_2020['borough'] = np.nan\n",
    "\n",
    "for i in range(len(pu)):\n",
    "    if pu[i] in boroughsID['Bronx']:\n",
    "        borough = 'Bronx'\n",
    "    elif pu[i] in boroughsID['Brooklyn']:\n",
    "        borough = 'Brooklyn'\n",
    "    elif pu[i] in boroughsID['Manhattan']:\n",
    "        borough = 'Manhattan'\n",
    "    elif pu[i] in boroughsID['Queens']:\n",
    "        borough = 'Queens'\n",
    "    elif pu[i] in boroughsID['Staten Island']:\n",
    "        borough = 'Staten Island'\n",
    "    elif pu[i] in boroughsID['EWR']:\n",
    "        borough = 'EWR'\n",
    "    else:\n",
    "        borough = 'Unknown'\n",
    "    green_2020['borough'][i] = borough\n",
    "    \n",
    "    \n",
    "conditions = [\n",
    "    (green_2020['borough'] == 'Bronx'),\n",
    "    (green_2020['borough'] == 'Brooklyn'),\n",
    "    (green_2020['borough'] == 'Manhattan'),\n",
    "    (green_2020['borough'] == 'Queens'),\n",
    "    (green_2020['borough'] == 'Staten Island'),\n",
    "    (green_2020['borough'] == 'EWR'),\n",
    "    (green_2020['borough'] == 'Unknown')]\n",
    "\n",
    "choices = [unemployment['2020'][0],\n",
    "           unemployment['2020'][1],\n",
    "           unemployment['2020'][2],\n",
    "           unemployment['2020'][3],\n",
    "           unemployment['2020'][4],\n",
    "           unemployment['2020'][5],\n",
    "           0]\n",
    "\n",
    "green_2020['unemployment'] = np.select(conditions, choices)"
   ]
  },
  {
   "cell_type": "markdown",
   "id": "8a85059c",
   "metadata": {},
   "source": [
    "## Export to Preprocessing Folder "
   ]
  },
  {
   "cell_type": "code",
   "execution_count": 28,
   "id": "b12591a8",
   "metadata": {},
   "outputs": [],
   "source": [
    "# TLC Data\n",
    "yellow_2019.to_csv('../preprocessed_data/yellow_2019.csv')\n",
    "yellow_2020.to_csv('../preprocessed_data/yellow_2020.csv')\n",
    "green_2019.to_csv('../preprocessed_data/green_2019.csv')\n",
    "green_2020.to_csv('../preprocessed_data/green_2020.csv')\n",
    "# Unemployment data\n",
    "unemployment.to_csv('../preprocessed_data/unemployment.csv')"
   ]
  }
 ],
 "metadata": {
  "kernelspec": {
   "display_name": "Python 3 (ipykernel)",
   "language": "python",
   "name": "python3"
  },
  "language_info": {
   "codemirror_mode": {
    "name": "ipython",
    "version": 3
   },
   "file_extension": ".py",
   "mimetype": "text/x-python",
   "name": "python",
   "nbconvert_exporter": "python",
   "pygments_lexer": "ipython3",
   "version": "3.9.2"
  }
 },
 "nbformat": 4,
 "nbformat_minor": 5
}
