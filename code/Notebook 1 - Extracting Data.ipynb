{
 "cells": [
  {
   "cell_type": "markdown",
   "id": "911b385e",
   "metadata": {},
   "source": [
    "# Notebook 1: Extracting Data"
   ]
  },
  {
   "cell_type": "code",
   "execution_count": 1,
   "id": "8ba3bc81",
   "metadata": {},
   "outputs": [],
   "source": [
    "# Importing required libraries and packages\n",
    "import csv\n",
    "import zipfile\n",
    "import pandas as pd\n",
    "from urllib.request import urlopen\n",
    "from os.path import getsize\n",
    "from urllib.request import urlretrieve"
   ]
  },
  {
   "cell_type": "markdown",
   "id": "9018d699",
   "metadata": {},
   "source": [
    "### TLC Yellow and Green Taxi Data (2019 and 2020)"
   ]
  },
  {
   "cell_type": "code",
   "execution_count": 2,
   "id": "d970b2f5",
   "metadata": {},
   "outputs": [],
   "source": [
    "# Downloads requested taxi data\n",
    "def taxi_data(output_dir, \n",
    "              taxi_color,\n",
    "              years):\n",
    "    # Iterates through the years requested\n",
    "    for year in years:\n",
    "        file_name = (taxi_color\n",
    "                     + \"_tripdata_\"\n",
    "                     + str(year))\n",
    "        # Iterates through all 12 months\n",
    "        for m in range(1, 13):\n",
    "            month = str(m).zfill(2)\n",
    "            out = f'{file_name}-{month}.csv'\n",
    "            url = f\"https://s3.amazonaws.com/nyc-tlc/trip+data/{out}\"\n",
    "            urlretrieve(url, f\"{output_dir}/{out}\")"
   ]
  },
  {
   "cell_type": "code",
   "execution_count": null,
   "id": "1995b7cf",
   "metadata": {},
   "outputs": [],
   "source": [
    "# Setting the output directory\n",
    "output_dir = \"../raw_data\"\n",
    "# Setting the years required\n",
    "years = [2019, 2020]\n",
    "\n",
    "# Download taxi data\n",
    "taxi_data(output_dir, \"yellow\", years)\n",
    "taxi_data(output_dir, \"green\", years)"
   ]
  },
  {
   "cell_type": "markdown",
   "id": "524822ac",
   "metadata": {},
   "source": [
    "### TLC Taxi Zone Data"
   ]
  },
  {
   "cell_type": "code",
   "execution_count": 5,
   "id": "f9dd5a90",
   "metadata": {},
   "outputs": [],
   "source": [
    "# Download the zone lookup file\n",
    "url = \"https://s3.amazonaws.com/nyc-tlc/misc/taxi+_zone_lookup.csv\"\n",
    "urlretrieve(url, f\"{output_dir}/taxi+_zone_lookup.csv\")\n",
    "\n",
    "# Download the zone shape file\n",
    "zip_url = \"https://s3.amazonaws.com/nyc-tlc/misc/taxi_zones.zip\"\n",
    "urlretrieve(zip_url, f\"{output_dir}/taxi_zones.zip\")\n",
    "\n",
    "# Unzip the zone shape file\n",
    "with zipfile.ZipFile(\"../raw_data/taxi_zones.zip\", 'r') as zf:\n",
    "    zf.extractall(\"../raw_data\")"
   ]
  },
  {
   "cell_type": "markdown",
   "id": "8ecff724",
   "metadata": {},
   "source": [
    "### Unemployment Data"
   ]
  },
  {
   "cell_type": "code",
   "execution_count": 6,
   "id": "f5d5cb70",
   "metadata": {},
   "outputs": [],
   "source": [
    "# Refer to the README.md file for the dataset source\n",
    "\n",
    "# Creating the series for the index\n",
    "index = pd.Series(['Bronx', 'Brooklyn',\n",
    "                   'Manhattan', 'Queens',\n",
    "                   'Staten Island'], name = \"Borough\")\n",
    "# Creating the series for 2019\n",
    "column_2019 = pd.Series([5.3, 4.0,\n",
    "                    3.4, 3.4,\n",
    "                    3.8], name = \"2019\") \n",
    "# Creating the series for 2020\n",
    "column_2020 = pd.Series([16.0, 12.5,\n",
    "                    9.5, 12.5,\n",
    "                    10.6], name = \"2020\")\n",
    "  \n",
    "# Merge all series to a single dataframe\n",
    "# Merge index and 2019\n",
    "dftemp = pd.merge(index, column_2019,\n",
    "                  left_index = True,\n",
    "                  right_index = True)\n",
    "# Merging the remaining 2020 series\n",
    "unemployment = pd.merge(dftemp, column_2020,\n",
    "                        left_index = True,\n",
    "                        right_index = True)\n",
    "\n",
    "# Set the index as borough names\n",
    "unemployment = unemployment.set_index(\"Borough\", drop = True)\n",
    "unemployment.to_csv(\"../raw_data/unemployment.csv\")"
   ]
  }
 ],
 "metadata": {
  "kernelspec": {
   "display_name": "Python 3 (ipykernel)",
   "language": "python",
   "name": "python3"
  },
  "language_info": {
   "codemirror_mode": {
    "name": "ipython",
    "version": 3
   },
   "file_extension": ".py",
   "mimetype": "text/x-python",
   "name": "python",
   "nbconvert_exporter": "python",
   "pygments_lexer": "ipython3",
   "version": "3.9.2"
  }
 },
 "nbformat": 4,
 "nbformat_minor": 5
}
