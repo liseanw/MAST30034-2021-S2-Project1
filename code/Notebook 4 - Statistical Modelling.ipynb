{
 "cells": [
  {
   "cell_type": "code",
   "execution_count": 2,
   "id": "8aba1737",
   "metadata": {},
   "outputs": [],
   "source": [
    "# Importing required libraries and packages\n",
    "import pandas as pd\n",
    "import numpy as np\n",
    "import geopandas as gpd\n",
    "import warnings\n",
    "import matplotlib.pyplot as plt\n",
    "\n",
    "from collections import defaultdict\n",
    "from sklearn.neural_network import MLPClassifier\n",
    "from statsmodels.formula.api import *\n",
    "\n",
    "warnings.filterwarnings(\"ignore\")"
   ]
  },
  {
   "cell_type": "code",
   "execution_count": 3,
   "id": "ca3df3f6",
   "metadata": {},
   "outputs": [],
   "source": [
    "# Loads in the preprocessed data\n",
    "# TLC\n",
    "yellow_2019 = pd.read_csv(\"../preprocessed_data/yellow_2019.csv\")\n",
    "yellow_2020 = pd.read_csv(\"../preprocessed_data/yellow_2020.csv\")\n",
    "green_2019 = pd.read_csv(\"../preprocessed_data/green_2019.csv\")\n",
    "green_2020 = pd.read_csv(\"../preprocessed_data/green_2020.csv\")\n",
    "zone = pd.read_csv(\"../raw_data/taxi+_zone_lookup.csv\")\n",
    "\n",
    "# Unemployment\n",
    "unemployment = pd.read_csv('../preprocessed_data/unemployment.csv')"
   ]
  },
  {
   "cell_type": "code",
   "execution_count": 4,
   "id": "c4bbbe93",
   "metadata": {},
   "outputs": [],
   "source": [
    "conditions = [\n",
    "    (yellow_2019['tip_amount'] <= 2),\n",
    "    (yellow_2019['tip_amount'] > 2) & (yellow_2019['tip_amount'] <= 5),\n",
    "    (yellow_2019['tip_amount'] > 5) & (yellow_2019['tip_amount'] <= 10),\n",
    "    (yellow_2019['tip_amount'] > 10) & (yellow_2019['tip_amount'] <= 100),\n",
    "    (yellow_2019['tip_amount'] > 100)]\n",
    "\n",
    "choices = [2,5,10,100,200]\n",
    "\n",
    "yellow_2019['bin'] = np.select(conditions, choices)"
   ]
  },
  {
   "cell_type": "code",
   "execution_count": 5,
   "id": "679600b4",
   "metadata": {},
   "outputs": [],
   "source": [
    "conditions = [\n",
    "    (yellow_2020['tip_amount'] <= 2),\n",
    "    (yellow_2020['tip_amount'] > 2) & (yellow_2020['tip_amount'] <= 5),\n",
    "    (yellow_2020['tip_amount'] > 5) & (yellow_2020['tip_amount'] <= 10),\n",
    "    (yellow_2020['tip_amount'] > 10) & (yellow_2020['tip_amount'] <= 100),\n",
    "    (yellow_2020['tip_amount'] > 100)]\n",
    "\n",
    "choices = [2,5,10,100,200]\n",
    "\n",
    "yellow_2020['bin'] = np.select(conditions, choices)"
   ]
  },
  {
   "cell_type": "code",
   "execution_count": 6,
   "id": "52ffff72",
   "metadata": {},
   "outputs": [],
   "source": [
    "conditions = [\n",
    "    (green_2019['tip_amount'] <= 2),\n",
    "    (green_2019['tip_amount'] > 2) & (green_2019['tip_amount'] <= 5),\n",
    "    (green_2019['tip_amount'] > 5) & (green_2019['tip_amount'] <= 10),\n",
    "    (green_2019['tip_amount'] > 10) & (green_2019['tip_amount'] <= 100),\n",
    "    (green_2019['tip_amount'] > 100)]\n",
    "\n",
    "choices = [2,5,10,100,200]\n",
    "\n",
    "green_2019['bin'] = np.select(conditions, choices)"
   ]
  },
  {
   "cell_type": "code",
   "execution_count": 7,
   "id": "0b622516",
   "metadata": {},
   "outputs": [],
   "source": [
    "conditions = [\n",
    "    (green_2020['tip_amount'] <= 2),\n",
    "    (green_2020['tip_amount'] > 2) & (green_2020['tip_amount'] <= 5),\n",
    "    (green_2020['tip_amount'] > 5) & (green_2020['tip_amount'] <= 10),\n",
    "    (green_2020['tip_amount'] > 10) & (green_2020['tip_amount'] <= 100),\n",
    "    (green_2020['tip_amount'] > 100)]\n",
    "\n",
    "choices = [2,5,10,100,200]\n",
    "\n",
    "green_2020['bin'] = np.select(conditions, choices)"
   ]
  },
  {
   "cell_type": "code",
   "execution_count": 16,
   "id": "3cd74640",
   "metadata": {},
   "outputs": [
    {
     "name": "stdout",
     "output_type": "stream",
     "text": [
      "                            OLS Regression Results                            \n",
      "==============================================================================\n",
      "Dep. Variable:             tip_amount   R-squared:                       0.849\n",
      "Model:                            OLS   Adj. R-squared:                  0.849\n",
      "Method:                 Least Squares   F-statistic:                 3.686e+07\n",
      "Date:                Mon, 16 Aug 2021   Prob (F-statistic):               0.00\n",
      "Time:                        08:52:00   Log-Likelihood:            -8.9096e+07\n",
      "No. Observations:            59162622   AIC:                         1.782e+08\n",
      "Df Residuals:                59162612   BIC:                         1.782e+08\n",
      "Df Model:                           9                                         \n",
      "Covariance Type:            nonrobust                                         \n",
      "============================================================================================\n",
      "                               coef    std err          t      P>|t|      [0.025      0.975]\n",
      "--------------------------------------------------------------------------------------------\n",
      "Intercept                   -0.3126      0.004    -77.011      0.000      -0.321      -0.305\n",
      "borough[T.Brooklyn]          0.8867      0.003    287.537      0.000       0.881       0.893\n",
      "borough[T.EWR]               0.8321      0.025     33.867      0.000       0.784       0.880\n",
      "borough[T.Manhattan]         0.2018      0.002     83.835      0.000       0.197       0.207\n",
      "borough[T.Queens]            0.4082      0.002    164.552      0.000       0.403       0.413\n",
      "borough[T.Staten Island]    -2.0434      0.023    -88.804      0.000      -2.088      -1.998\n",
      "borough[T.Unknown]          -0.3187      0.004    -77.764      0.000      -0.327      -0.311\n",
      "fare_amount                 -0.5069      7e-05  -7239.157      0.000      -0.507      -0.507\n",
      "trip_distance               -0.0572      0.000   -560.175      0.000      -0.057      -0.057\n",
      "unemployment                -0.3124      0.001   -247.159      0.000      -0.315      -0.310\n",
      "total_amount                 0.5546   5.25e-05   1.06e+04      0.000       0.554       0.555\n",
      "==============================================================================\n",
      "Omnibus:                 86656491.565   Durbin-Watson:                   1.747\n",
      "Prob(Omnibus):                  0.000   Jarque-Bera (JB):   14197890659369.592\n",
      "Skew:                           7.041   Prob(JB):                         0.00\n",
      "Kurtosis:                    2402.862   Cond. No.                     2.77e+15\n",
      "==============================================================================\n",
      "\n",
      "Notes:\n",
      "[1] Standard Errors assume that the covariance matrix of the errors is correctly specified.\n",
      "[2] The smallest eigenvalue is 7.53e-21. This might indicate that there are\n",
      "strong multicollinearity problems or that the design matrix is singular.\n"
     ]
    }
   ],
   "source": [
    "fit = ols(formula=\"tip_amount ~ fare_amount + borough + trip_distance + unemployment + total_amount\",\n",
    "         data=yellow_2019).fit()\n",
    "print(fit.summary())"
   ]
  },
  {
   "cell_type": "code",
   "execution_count": 17,
   "id": "e6f3b717",
   "metadata": {},
   "outputs": [
    {
     "name": "stdout",
     "output_type": "stream",
     "text": [
      "                            OLS Regression Results                            \n",
      "==============================================================================\n",
      "Dep. Variable:             tip_amount   R-squared:                       0.849\n",
      "Model:                            OLS   Adj. R-squared:                  0.849\n",
      "Method:                 Least Squares   F-statistic:                 1.060e+07\n",
      "Date:                Mon, 16 Aug 2021   Prob (F-statistic):               0.00\n",
      "Time:                        08:53:37   Log-Likelihood:            -2.4127e+07\n",
      "No. Observations:            16907128   AIC:                         4.825e+07\n",
      "Df Residuals:                16907118   BIC:                         4.825e+07\n",
      "Df Model:                           9                                         \n",
      "Covariance Type:            nonrobust                                         \n",
      "============================================================================================\n",
      "                               coef    std err          t      P>|t|      [0.025      0.975]\n",
      "--------------------------------------------------------------------------------------------\n",
      "Intercept                   -0.9142      0.007   -130.827      0.000      -0.928      -0.901\n",
      "borough[T.Brooklyn]          1.0381      0.007    153.099      0.000       1.025       1.051\n",
      "borough[T.EWR]              -0.5504      0.049    -11.343      0.000      -0.645      -0.455\n",
      "borough[T.Manhattan]        -0.0225      0.004     -5.029      0.000      -0.031      -0.014\n",
      "borough[T.Queens]            0.4456      0.006     71.693      0.000       0.433       0.458\n",
      "borough[T.Staten Island]    -2.3917      0.024    -97.915      0.000      -2.440      -2.344\n",
      "borough[T.Unknown]          -0.2880      0.007    -40.672      0.000      -0.302      -0.274\n",
      "fare_amount                 -0.5856      0.000  -4388.906      0.000      -0.586      -0.585\n",
      "trip_distance               -0.0881      0.000   -450.610      0.000      -0.088      -0.088\n",
      "unemployment                -0.0709      0.001    -84.348      0.000      -0.073      -0.069\n",
      "total_amount                 0.6287      0.000   6262.941      0.000       0.628       0.629\n",
      "==============================================================================\n",
      "Omnibus:                 33072090.227   Durbin-Watson:                   1.880\n",
      "Prob(Omnibus):                  0.000   Jarque-Bera (JB):   20618077419796.820\n",
      "Skew:                          13.669   Prob(JB):                         0.00\n",
      "Kurtosis:                    5412.900   Cond. No.                     1.02e+16\n",
      "==============================================================================\n",
      "\n",
      "Notes:\n",
      "[1] Standard Errors assume that the covariance matrix of the errors is correctly specified.\n",
      "[2] The smallest eigenvalue is 1.39e-22. This might indicate that there are\n",
      "strong multicollinearity problems or that the design matrix is singular.\n"
     ]
    }
   ],
   "source": [
    "fit = ols(formula=\"tip_amount ~ fare_amount + borough + trip_distance + unemployment + total_amount\",\n",
    "         data=yellow_2020).fit()\n",
    "print(fit.summary())"
   ]
  },
  {
   "cell_type": "code",
   "execution_count": 18,
   "id": "b21b371d",
   "metadata": {},
   "outputs": [
    {
     "name": "stdout",
     "output_type": "stream",
     "text": [
      "                            OLS Regression Results                            \n",
      "==============================================================================\n",
      "Dep. Variable:             tip_amount   R-squared:                       0.786\n",
      "Model:                            OLS   Adj. R-squared:                  0.786\n",
      "Method:                 Least Squares   F-statistic:                 1.271e+06\n",
      "Date:                Mon, 16 Aug 2021   Prob (F-statistic):               0.00\n",
      "Time:                        08:53:53   Log-Likelihood:            -4.7401e+06\n",
      "No. Observations:             3122557   AIC:                         9.480e+06\n",
      "Df Residuals:                 3122547   BIC:                         9.480e+06\n",
      "Df Model:                           9                                         \n",
      "Covariance Type:            nonrobust                                         \n",
      "============================================================================================\n",
      "                               coef    std err          t      P>|t|      [0.025      0.975]\n",
      "--------------------------------------------------------------------------------------------\n",
      "Intercept                   -0.2731      0.027     -9.930      0.000      -0.327      -0.219\n",
      "borough[T.Brooklyn]          0.3305      0.007     47.224      0.000       0.317       0.344\n",
      "borough[T.EWR]               1.6916      0.254      6.664      0.000       1.194       2.189\n",
      "borough[T.Manhattan]        -0.0433      0.010     -4.338      0.000      -0.063      -0.024\n",
      "borough[T.Queens]            0.3439      0.010     34.419      0.000       0.324       0.363\n",
      "borough[T.Staten Island]    -4.0501      0.024   -165.458      0.000      -4.098      -4.002\n",
      "borough[T.Unknown]           0.2748      0.029      9.475      0.000       0.218       0.332\n",
      "fare_amount                 -0.6474      0.000  -2438.693      0.000      -0.648      -0.647\n",
      "trip_distance               -0.1068      0.000   -241.759      0.000      -0.108      -0.106\n",
      "unemployment                -0.0621      0.005    -11.902      0.000      -0.072      -0.052\n",
      "total_amount                 0.6559      0.000   3201.635      0.000       0.656       0.656\n",
      "==============================================================================\n",
      "Omnibus:                  3927226.531   Durbin-Watson:                   1.898\n",
      "Prob(Omnibus):                  0.000   Jarque-Bera (JB):      44052155096.148\n",
      "Skew:                           5.504   Prob(JB):                         0.00\n",
      "Kurtosis:                     584.777   Cond. No.                     3.76e+16\n",
      "==============================================================================\n",
      "\n",
      "Notes:\n",
      "[1] Standard Errors assume that the covariance matrix of the errors is correctly specified.\n",
      "[2] The smallest eigenvalue is 2.11e-24. This might indicate that there are\n",
      "strong multicollinearity problems or that the design matrix is singular.\n"
     ]
    }
   ],
   "source": [
    "fit = ols(formula=\"tip_amount ~ fare_amount + borough + trip_distance + unemployment + total_amount\",\n",
    "         data=green_2019).fit()\n",
    "print(fit.summary())"
   ]
  },
  {
   "cell_type": "code",
   "execution_count": 19,
   "id": "e858895f",
   "metadata": {},
   "outputs": [
    {
     "name": "stdout",
     "output_type": "stream",
     "text": [
      "                            OLS Regression Results                            \n",
      "==============================================================================\n",
      "Dep. Variable:             tip_amount   R-squared:                       0.816\n",
      "Model:                            OLS   Adj. R-squared:                  0.816\n",
      "Method:                 Least Squares   F-statistic:                 3.047e+05\n",
      "Date:                Mon, 16 Aug 2021   Prob (F-statistic):               0.00\n",
      "Time:                        08:53:56   Log-Likelihood:            -1.0196e+06\n",
      "No. Observations:              617036   AIC:                         2.039e+06\n",
      "Df Residuals:                  617026   BIC:                         2.039e+06\n",
      "Df Model:                           9                                         \n",
      "Covariance Type:            nonrobust                                         \n",
      "============================================================================================\n",
      "                               coef    std err          t      P>|t|      [0.025      0.975]\n",
      "--------------------------------------------------------------------------------------------\n",
      "Intercept                   -0.9346      0.053    -17.754      0.000      -1.038      -0.831\n",
      "borough[T.Brooklyn]          0.3977      0.013     29.566      0.000       0.371       0.424\n",
      "borough[T.EWR]              -1.7899      0.504     -3.552      0.000      -2.778      -0.802\n",
      "borough[T.Manhattan]        -0.1223      0.022     -5.601      0.000      -0.165      -0.079\n",
      "borough[T.Queens]            0.4241      0.014     31.379      0.000       0.398       0.451\n",
      "borough[T.Staten Island]    -3.8065      0.045    -85.023      0.000      -3.894      -3.719\n",
      "borough[T.Unknown]           0.6422      0.055     11.768      0.000       0.535       0.749\n",
      "fare_amount                 -0.7168      0.001  -1062.801      0.000      -0.718      -0.715\n",
      "trip_distance               -0.1771      0.001   -136.312      0.000      -0.180      -0.175\n",
      "unemployment                 0.0103      0.003      3.059      0.002       0.004       0.017\n",
      "total_amount                 0.7404      0.000   1568.026      0.000       0.739       0.741\n",
      "==============================================================================\n",
      "Omnibus:                  1118899.877   Durbin-Watson:                   1.891\n",
      "Prob(Omnibus):                  0.000   Jarque-Bera (JB):      38659059052.288\n",
      "Skew:                          12.092   Prob(JB):                         0.00\n",
      "Kurtosis:                    1229.003   Cond. No.                     7.14e+16\n",
      "==============================================================================\n",
      "\n",
      "Notes:\n",
      "[1] Standard Errors assume that the covariance matrix of the errors is correctly specified.\n",
      "[2] The smallest eigenvalue is 1.22e-25. This might indicate that there are\n",
      "strong multicollinearity problems or that the design matrix is singular.\n"
     ]
    }
   ],
   "source": [
    "fit = ols(formula=\"tip_amount ~ fare_amount + borough + trip_distance + unemployment + total_amount\",\n",
    "         data=green_2020).fit()\n",
    "print(fit.summary())"
   ]
  },
  {
   "cell_type": "code",
   "execution_count": null,
   "id": "4fa9dc69",
   "metadata": {},
   "outputs": [],
   "source": [
    "X_train = green_2019.loc[:, green_2019.columns != 'bin']\n",
    "X_train = X_train.loc[:, X_train.columns != 'tip_amount'].to_numpy()\n",
    "X_test = green_2020.loc[:, green_2020.columns != 'bin']\n",
    "X_test = X_test.loc[:, X_test.columns != 'tip_amount'].to_numpy()\n",
    "y_train = green_2019.loc['bin'].to_numpy()\n",
    "y_test = green_2020.loc['bin'].to_numpy()\n",
    "clf = MLPClassifier().fit(X_train, y_train)\n",
    "clf.score(X_test, y_test)"
   ]
  },
  {
   "cell_type": "code",
   "execution_count": null,
   "id": "68eaf88a",
   "metadata": {},
   "outputs": [],
   "source": [
    "X_train = yellow_2019.loc[:, yellow_2019.columns != 'bin']\n",
    "X_train = X_train.loc[:, X_train.columns != 'tip_amount'].to_numpy()\n",
    "X_test = yellow_2020.loc[:, yellow_2020.columns != 'bin']\n",
    "X_test = X_test.loc[:, X_test.columns != 'tip_amount'].to_numpy()\n",
    "y_train = yellow_2019.loc['bin'].to_numpy()\n",
    "y_test = yellow_2020.loc['bin'].to_numpy()\n",
    "clf = MLPClassifier().fit(X_train, y_train)\n",
    "clf.score(X_test, y_test)"
   ]
  }
 ],
 "metadata": {
  "kernelspec": {
   "display_name": "Python 3 (ipykernel)",
   "language": "python",
   "name": "python3"
  },
  "language_info": {
   "codemirror_mode": {
    "name": "ipython",
    "version": 3
   },
   "file_extension": ".py",
   "mimetype": "text/x-python",
   "name": "python",
   "nbconvert_exporter": "python",
   "pygments_lexer": "ipython3",
   "version": "3.9.2"
  }
 },
 "nbformat": 4,
 "nbformat_minor": 5
}
